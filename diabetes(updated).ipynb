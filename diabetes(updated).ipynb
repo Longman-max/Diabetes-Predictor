{
  "cells": [
    {
      "cell_type": "markdown",
      "metadata": {
        "id": "view-in-github",
        "colab_type": "text"
      },
      "source": [
        "<a href=\"https://colab.research.google.com/github/Longman-max/Diabetes-Predictor/blob/main/diabetes(updated).ipynb\" target=\"_parent\"><img src=\"https://colab.research.google.com/assets/colab-badge.svg\" alt=\"Open In Colab\"/></a>"
      ]
    },
    {
      "cell_type": "markdown",
      "id": "84853047",
      "metadata": {
        "id": "84853047"
      },
      "source": [
        "# Precious Kings\n",
        "## Project Title: Time Series Predictive Modeling Diabetes Progression and Health Risk Stratification Using Electronic Health Records"
      ]
    },
    {
      "cell_type": "code",
      "execution_count": 3,
      "id": "606615b4",
      "metadata": {
        "id": "606615b4",
        "outputId": "7f1199a4-95af-4ce3-8537-801b78d8e9fc",
        "colab": {
          "base_uri": "https://localhost:8080/"
        }
      },
      "outputs": [
        {
          "output_type": "stream",
          "name": "stdout",
          "text": [
            "Libraries imported successfully Precious\n"
          ]
        }
      ],
      "source": [
        "# Import necessary libraries\n",
        "import pandas as pd\n",
        "from sklearn.model_selection import train_test_split # Though we might not split for simplicity here\n",
        "from sklearn.ensemble import RandomForestClassifier # Import RandomForest\n",
        "from sklearn.preprocessing import StandardScaler     # For scaling features\n",
        "import pickle                                       # For saving the model and scaler\n",
        "import os                                           # To check if the file exists\n",
        "\n",
        "print(\"Libraries imported successfully Precious\")"
      ]
    },
    {
      "cell_type": "markdown",
      "id": "7bc7f5ca",
      "metadata": {
        "id": "7bc7f5ca"
      },
      "source": [
        "### Load dataset"
      ]
    },
    {
      "cell_type": "code",
      "execution_count": 6,
      "id": "01438b5e",
      "metadata": {
        "id": "01438b5e",
        "colab": {
          "base_uri": "https://localhost:8080/",
          "height": 325
        },
        "outputId": "374ef349-3834-4fd4-89af-eaeeef94db77"
      },
      "outputs": [
        {
          "output_type": "display_data",
          "data": {
            "text/plain": [
              "   Age  Gender   BMI Family_History Physical_Activity       Diet_Type  \\\n",
              "0   48    Male  35.5             No              High  Non-Vegetarian   \n",
              "1   18   Other  28.7            Yes            Medium  Non-Vegetarian   \n",
              "2   21   Other  30.0            Yes              High  Non-Vegetarian   \n",
              "3   25  Female  25.6             No            Medium      Vegetarian   \n",
              "4   78    Male  38.8             No              High  Non-Vegetarian   \n",
              "\n",
              "  Smoking_Status Alcohol_Intake Stress_Level Hypertension  ...  \\\n",
              "0          Never            NaN       Medium          Yes  ...   \n",
              "1        Current       Moderate         High           No  ...   \n",
              "2        Current       Moderate         High          Yes  ...   \n",
              "3         Former       Moderate         High          Yes  ...   \n",
              "4        Current           High         High           No  ...   \n",
              "\n",
              "   Health_Insurance  Regular_Checkups  Medication_For_Chronic_Conditions  \\\n",
              "0                No                No                                 No   \n",
              "1               Yes               Yes                                 No   \n",
              "2                No                No                                Yes   \n",
              "3                No                No                                Yes   \n",
              "4                No                No                                Yes   \n",
              "\n",
              "   Pregnancies  Polycystic_Ovary_Syndrome  Glucose_Tolerance_Test_Result  \\\n",
              "0            0                          0                          124.3   \n",
              "1            0                          0                          151.4   \n",
              "2            0                          0                          106.1   \n",
              "3            1                         No                           85.6   \n",
              "4            0                          0                           77.0   \n",
              "\n",
              "  Vitamin_D_Level C_Protein_Level Thyroid_Condition Diabetes_Status  \n",
              "0            31.5            7.46               Yes             Yes  \n",
              "1            12.5            5.64               Yes              No  \n",
              "2            35.8            7.20                No             Yes  \n",
              "3            15.4            6.53               Yes              No  \n",
              "4            28.6            0.58                No             Yes  \n",
              "\n",
              "[5 rows x 27 columns]"
            ],
            "text/html": [
              "\n",
              "  <div id=\"df-7e8eb91e-8a64-4bfe-a8ae-6e1b136e9ec2\" class=\"colab-df-container\">\n",
              "    <div>\n",
              "<style scoped>\n",
              "    .dataframe tbody tr th:only-of-type {\n",
              "        vertical-align: middle;\n",
              "    }\n",
              "\n",
              "    .dataframe tbody tr th {\n",
              "        vertical-align: top;\n",
              "    }\n",
              "\n",
              "    .dataframe thead th {\n",
              "        text-align: right;\n",
              "    }\n",
              "</style>\n",
              "<table border=\"1\" class=\"dataframe\">\n",
              "  <thead>\n",
              "    <tr style=\"text-align: right;\">\n",
              "      <th></th>\n",
              "      <th>Age</th>\n",
              "      <th>Gender</th>\n",
              "      <th>BMI</th>\n",
              "      <th>Family_History</th>\n",
              "      <th>Physical_Activity</th>\n",
              "      <th>Diet_Type</th>\n",
              "      <th>Smoking_Status</th>\n",
              "      <th>Alcohol_Intake</th>\n",
              "      <th>Stress_Level</th>\n",
              "      <th>Hypertension</th>\n",
              "      <th>...</th>\n",
              "      <th>Health_Insurance</th>\n",
              "      <th>Regular_Checkups</th>\n",
              "      <th>Medication_For_Chronic_Conditions</th>\n",
              "      <th>Pregnancies</th>\n",
              "      <th>Polycystic_Ovary_Syndrome</th>\n",
              "      <th>Glucose_Tolerance_Test_Result</th>\n",
              "      <th>Vitamin_D_Level</th>\n",
              "      <th>C_Protein_Level</th>\n",
              "      <th>Thyroid_Condition</th>\n",
              "      <th>Diabetes_Status</th>\n",
              "    </tr>\n",
              "  </thead>\n",
              "  <tbody>\n",
              "    <tr>\n",
              "      <th>0</th>\n",
              "      <td>48</td>\n",
              "      <td>Male</td>\n",
              "      <td>35.5</td>\n",
              "      <td>No</td>\n",
              "      <td>High</td>\n",
              "      <td>Non-Vegetarian</td>\n",
              "      <td>Never</td>\n",
              "      <td>NaN</td>\n",
              "      <td>Medium</td>\n",
              "      <td>Yes</td>\n",
              "      <td>...</td>\n",
              "      <td>No</td>\n",
              "      <td>No</td>\n",
              "      <td>No</td>\n",
              "      <td>0</td>\n",
              "      <td>0</td>\n",
              "      <td>124.3</td>\n",
              "      <td>31.5</td>\n",
              "      <td>7.46</td>\n",
              "      <td>Yes</td>\n",
              "      <td>Yes</td>\n",
              "    </tr>\n",
              "    <tr>\n",
              "      <th>1</th>\n",
              "      <td>18</td>\n",
              "      <td>Other</td>\n",
              "      <td>28.7</td>\n",
              "      <td>Yes</td>\n",
              "      <td>Medium</td>\n",
              "      <td>Non-Vegetarian</td>\n",
              "      <td>Current</td>\n",
              "      <td>Moderate</td>\n",
              "      <td>High</td>\n",
              "      <td>No</td>\n",
              "      <td>...</td>\n",
              "      <td>Yes</td>\n",
              "      <td>Yes</td>\n",
              "      <td>No</td>\n",
              "      <td>0</td>\n",
              "      <td>0</td>\n",
              "      <td>151.4</td>\n",
              "      <td>12.5</td>\n",
              "      <td>5.64</td>\n",
              "      <td>Yes</td>\n",
              "      <td>No</td>\n",
              "    </tr>\n",
              "    <tr>\n",
              "      <th>2</th>\n",
              "      <td>21</td>\n",
              "      <td>Other</td>\n",
              "      <td>30.0</td>\n",
              "      <td>Yes</td>\n",
              "      <td>High</td>\n",
              "      <td>Non-Vegetarian</td>\n",
              "      <td>Current</td>\n",
              "      <td>Moderate</td>\n",
              "      <td>High</td>\n",
              "      <td>Yes</td>\n",
              "      <td>...</td>\n",
              "      <td>No</td>\n",
              "      <td>No</td>\n",
              "      <td>Yes</td>\n",
              "      <td>0</td>\n",
              "      <td>0</td>\n",
              "      <td>106.1</td>\n",
              "      <td>35.8</td>\n",
              "      <td>7.20</td>\n",
              "      <td>No</td>\n",
              "      <td>Yes</td>\n",
              "    </tr>\n",
              "    <tr>\n",
              "      <th>3</th>\n",
              "      <td>25</td>\n",
              "      <td>Female</td>\n",
              "      <td>25.6</td>\n",
              "      <td>No</td>\n",
              "      <td>Medium</td>\n",
              "      <td>Vegetarian</td>\n",
              "      <td>Former</td>\n",
              "      <td>Moderate</td>\n",
              "      <td>High</td>\n",
              "      <td>Yes</td>\n",
              "      <td>...</td>\n",
              "      <td>No</td>\n",
              "      <td>No</td>\n",
              "      <td>Yes</td>\n",
              "      <td>1</td>\n",
              "      <td>No</td>\n",
              "      <td>85.6</td>\n",
              "      <td>15.4</td>\n",
              "      <td>6.53</td>\n",
              "      <td>Yes</td>\n",
              "      <td>No</td>\n",
              "    </tr>\n",
              "    <tr>\n",
              "      <th>4</th>\n",
              "      <td>78</td>\n",
              "      <td>Male</td>\n",
              "      <td>38.8</td>\n",
              "      <td>No</td>\n",
              "      <td>High</td>\n",
              "      <td>Non-Vegetarian</td>\n",
              "      <td>Current</td>\n",
              "      <td>High</td>\n",
              "      <td>High</td>\n",
              "      <td>No</td>\n",
              "      <td>...</td>\n",
              "      <td>No</td>\n",
              "      <td>No</td>\n",
              "      <td>Yes</td>\n",
              "      <td>0</td>\n",
              "      <td>0</td>\n",
              "      <td>77.0</td>\n",
              "      <td>28.6</td>\n",
              "      <td>0.58</td>\n",
              "      <td>No</td>\n",
              "      <td>Yes</td>\n",
              "    </tr>\n",
              "  </tbody>\n",
              "</table>\n",
              "<p>5 rows × 27 columns</p>\n",
              "</div>\n",
              "    <div class=\"colab-df-buttons\">\n",
              "\n",
              "  <div class=\"colab-df-container\">\n",
              "    <button class=\"colab-df-convert\" onclick=\"convertToInteractive('df-7e8eb91e-8a64-4bfe-a8ae-6e1b136e9ec2')\"\n",
              "            title=\"Convert this dataframe to an interactive table.\"\n",
              "            style=\"display:none;\">\n",
              "\n",
              "  <svg xmlns=\"http://www.w3.org/2000/svg\" height=\"24px\" viewBox=\"0 -960 960 960\">\n",
              "    <path d=\"M120-120v-720h720v720H120Zm60-500h600v-160H180v160Zm220 220h160v-160H400v160Zm0 220h160v-160H400v160ZM180-400h160v-160H180v160Zm440 0h160v-160H620v160ZM180-180h160v-160H180v160Zm440 0h160v-160H620v160Z\"/>\n",
              "  </svg>\n",
              "    </button>\n",
              "\n",
              "  <style>\n",
              "    .colab-df-container {\n",
              "      display:flex;\n",
              "      gap: 12px;\n",
              "    }\n",
              "\n",
              "    .colab-df-convert {\n",
              "      background-color: #E8F0FE;\n",
              "      border: none;\n",
              "      border-radius: 50%;\n",
              "      cursor: pointer;\n",
              "      display: none;\n",
              "      fill: #1967D2;\n",
              "      height: 32px;\n",
              "      padding: 0 0 0 0;\n",
              "      width: 32px;\n",
              "    }\n",
              "\n",
              "    .colab-df-convert:hover {\n",
              "      background-color: #E2EBFA;\n",
              "      box-shadow: 0px 1px 2px rgba(60, 64, 67, 0.3), 0px 1px 3px 1px rgba(60, 64, 67, 0.15);\n",
              "      fill: #174EA6;\n",
              "    }\n",
              "\n",
              "    .colab-df-buttons div {\n",
              "      margin-bottom: 4px;\n",
              "    }\n",
              "\n",
              "    [theme=dark] .colab-df-convert {\n",
              "      background-color: #3B4455;\n",
              "      fill: #D2E3FC;\n",
              "    }\n",
              "\n",
              "    [theme=dark] .colab-df-convert:hover {\n",
              "      background-color: #434B5C;\n",
              "      box-shadow: 0px 1px 3px 1px rgba(0, 0, 0, 0.15);\n",
              "      filter: drop-shadow(0px 1px 2px rgba(0, 0, 0, 0.3));\n",
              "      fill: #FFFFFF;\n",
              "    }\n",
              "  </style>\n",
              "\n",
              "    <script>\n",
              "      const buttonEl =\n",
              "        document.querySelector('#df-7e8eb91e-8a64-4bfe-a8ae-6e1b136e9ec2 button.colab-df-convert');\n",
              "      buttonEl.style.display =\n",
              "        google.colab.kernel.accessAllowed ? 'block' : 'none';\n",
              "\n",
              "      async function convertToInteractive(key) {\n",
              "        const element = document.querySelector('#df-7e8eb91e-8a64-4bfe-a8ae-6e1b136e9ec2');\n",
              "        const dataTable =\n",
              "          await google.colab.kernel.invokeFunction('convertToInteractive',\n",
              "                                                    [key], {});\n",
              "        if (!dataTable) return;\n",
              "\n",
              "        const docLinkHtml = 'Like what you see? Visit the ' +\n",
              "          '<a target=\"_blank\" href=https://colab.research.google.com/notebooks/data_table.ipynb>data table notebook</a>'\n",
              "          + ' to learn more about interactive tables.';\n",
              "        element.innerHTML = '';\n",
              "        dataTable['output_type'] = 'display_data';\n",
              "        await google.colab.output.renderOutput(dataTable, element);\n",
              "        const docLink = document.createElement('div');\n",
              "        docLink.innerHTML = docLinkHtml;\n",
              "        element.appendChild(docLink);\n",
              "      }\n",
              "    </script>\n",
              "  </div>\n",
              "\n",
              "\n",
              "    <div id=\"df-4961c19c-a3d6-4292-ba23-9ef18a78de0e\">\n",
              "      <button class=\"colab-df-quickchart\" onclick=\"quickchart('df-4961c19c-a3d6-4292-ba23-9ef18a78de0e')\"\n",
              "                title=\"Suggest charts\"\n",
              "                style=\"display:none;\">\n",
              "\n",
              "<svg xmlns=\"http://www.w3.org/2000/svg\" height=\"24px\"viewBox=\"0 0 24 24\"\n",
              "     width=\"24px\">\n",
              "    <g>\n",
              "        <path d=\"M19 3H5c-1.1 0-2 .9-2 2v14c0 1.1.9 2 2 2h14c1.1 0 2-.9 2-2V5c0-1.1-.9-2-2-2zM9 17H7v-7h2v7zm4 0h-2V7h2v10zm4 0h-2v-4h2v4z\"/>\n",
              "    </g>\n",
              "</svg>\n",
              "      </button>\n",
              "\n",
              "<style>\n",
              "  .colab-df-quickchart {\n",
              "      --bg-color: #E8F0FE;\n",
              "      --fill-color: #1967D2;\n",
              "      --hover-bg-color: #E2EBFA;\n",
              "      --hover-fill-color: #174EA6;\n",
              "      --disabled-fill-color: #AAA;\n",
              "      --disabled-bg-color: #DDD;\n",
              "  }\n",
              "\n",
              "  [theme=dark] .colab-df-quickchart {\n",
              "      --bg-color: #3B4455;\n",
              "      --fill-color: #D2E3FC;\n",
              "      --hover-bg-color: #434B5C;\n",
              "      --hover-fill-color: #FFFFFF;\n",
              "      --disabled-bg-color: #3B4455;\n",
              "      --disabled-fill-color: #666;\n",
              "  }\n",
              "\n",
              "  .colab-df-quickchart {\n",
              "    background-color: var(--bg-color);\n",
              "    border: none;\n",
              "    border-radius: 50%;\n",
              "    cursor: pointer;\n",
              "    display: none;\n",
              "    fill: var(--fill-color);\n",
              "    height: 32px;\n",
              "    padding: 0;\n",
              "    width: 32px;\n",
              "  }\n",
              "\n",
              "  .colab-df-quickchart:hover {\n",
              "    background-color: var(--hover-bg-color);\n",
              "    box-shadow: 0 1px 2px rgba(60, 64, 67, 0.3), 0 1px 3px 1px rgba(60, 64, 67, 0.15);\n",
              "    fill: var(--button-hover-fill-color);\n",
              "  }\n",
              "\n",
              "  .colab-df-quickchart-complete:disabled,\n",
              "  .colab-df-quickchart-complete:disabled:hover {\n",
              "    background-color: var(--disabled-bg-color);\n",
              "    fill: var(--disabled-fill-color);\n",
              "    box-shadow: none;\n",
              "  }\n",
              "\n",
              "  .colab-df-spinner {\n",
              "    border: 2px solid var(--fill-color);\n",
              "    border-color: transparent;\n",
              "    border-bottom-color: var(--fill-color);\n",
              "    animation:\n",
              "      spin 1s steps(1) infinite;\n",
              "  }\n",
              "\n",
              "  @keyframes spin {\n",
              "    0% {\n",
              "      border-color: transparent;\n",
              "      border-bottom-color: var(--fill-color);\n",
              "      border-left-color: var(--fill-color);\n",
              "    }\n",
              "    20% {\n",
              "      border-color: transparent;\n",
              "      border-left-color: var(--fill-color);\n",
              "      border-top-color: var(--fill-color);\n",
              "    }\n",
              "    30% {\n",
              "      border-color: transparent;\n",
              "      border-left-color: var(--fill-color);\n",
              "      border-top-color: var(--fill-color);\n",
              "      border-right-color: var(--fill-color);\n",
              "    }\n",
              "    40% {\n",
              "      border-color: transparent;\n",
              "      border-right-color: var(--fill-color);\n",
              "      border-top-color: var(--fill-color);\n",
              "    }\n",
              "    60% {\n",
              "      border-color: transparent;\n",
              "      border-right-color: var(--fill-color);\n",
              "    }\n",
              "    80% {\n",
              "      border-color: transparent;\n",
              "      border-right-color: var(--fill-color);\n",
              "      border-bottom-color: var(--fill-color);\n",
              "    }\n",
              "    90% {\n",
              "      border-color: transparent;\n",
              "      border-bottom-color: var(--fill-color);\n",
              "    }\n",
              "  }\n",
              "</style>\n",
              "\n",
              "      <script>\n",
              "        async function quickchart(key) {\n",
              "          const quickchartButtonEl =\n",
              "            document.querySelector('#' + key + ' button');\n",
              "          quickchartButtonEl.disabled = true;  // To prevent multiple clicks.\n",
              "          quickchartButtonEl.classList.add('colab-df-spinner');\n",
              "          try {\n",
              "            const charts = await google.colab.kernel.invokeFunction(\n",
              "                'suggestCharts', [key], {});\n",
              "          } catch (error) {\n",
              "            console.error('Error during call to suggestCharts:', error);\n",
              "          }\n",
              "          quickchartButtonEl.classList.remove('colab-df-spinner');\n",
              "          quickchartButtonEl.classList.add('colab-df-quickchart-complete');\n",
              "        }\n",
              "        (() => {\n",
              "          let quickchartButtonEl =\n",
              "            document.querySelector('#df-4961c19c-a3d6-4292-ba23-9ef18a78de0e button');\n",
              "          quickchartButtonEl.style.display =\n",
              "            google.colab.kernel.accessAllowed ? 'block' : 'none';\n",
              "        })();\n",
              "      </script>\n",
              "    </div>\n",
              "\n",
              "    </div>\n",
              "  </div>\n"
            ],
            "application/vnd.google.colaboratory.intrinsic+json": {
              "type": "dataframe"
            }
          },
          "metadata": {}
        }
      ],
      "source": [
        "# Load the dataset\n",
        "data = pd.read_csv('/content/diabetes_prediction_india (1).csv')\n",
        "display(data.head())"
      ]
    },
    {
      "cell_type": "markdown",
      "id": "a24e2d0c",
      "metadata": {
        "id": "a24e2d0c"
      },
      "source": [
        "###  Define Features (X) and Target (y)"
      ]
    },
    {
      "cell_type": "code",
      "execution_count": null,
      "id": "4b87169c",
      "metadata": {
        "id": "4b87169c"
      },
      "outputs": [],
      "source": [
        "# Define the list of feature column names\n",
        "# Make sure these match your CSV column names EXACTLY!\n",
        "feature_cols = ['Age', 'BMI', 'Blood Glucose', 'Blood Pressure', 'HbA1c', 'Insulin Level', 'Skin thickness', 'Pregnancies', 'Family history', 'Physical Activity', 'Smoking status', 'Alcohol Intake', 'Diet Qualtiy', 'Cholesterol', 'Triglycerides', 'Waiste ratio']\n",
        "target_col = 'Outcome' # Assuming 'Outcome' is still the target column\n",
        "\n",
        "# Create the features DataFrame (X)\n",
        "# Using .get() with a default empty list to handle missing columns\n",
        "X = data[[col for col in feature_cols if col in data.columns]]\n",
        "\n",
        "# Create the target Series (y)\n",
        "y = data[target_col]\n",
        "\n",
        "print(\"Features (X) and Target (y) defined.\")\n",
        "print(f\"Shape of X: {X.shape}\")\n",
        "print(f\"Shape of y: {y.shape}\")"
      ]
    },
    {
      "cell_type": "markdown",
      "id": "eceb9ccb",
      "metadata": {
        "id": "eceb9ccb"
      },
      "source": [
        "###  Preprocess Data: Feature Scaling"
      ]
    },
    {
      "cell_type": "code",
      "execution_count": null,
      "id": "c0eac683",
      "metadata": {
        "id": "c0eac683"
      },
      "outputs": [],
      "source": [
        "# Initialize the StandardScaler\n",
        "scaler = StandardScaler()\n",
        "\n",
        "# Fit the scaler to the features (X) and transform X\n",
        "# fit_transform() does both steps in one go\n",
        "X_scaled = scaler.fit_transform(X)\n",
        "\n",
        "print(\"Features scaled using StandardScaler.\")\n",
        "\n",
        "# You can optionally convert X_scaled back to a DataFrame to view it nicely (optional)\n",
        "# X_scaled_df = pd.DataFrame(X_scaled, columns=feature_cols)\n",
        "# print(\"\\nFirst 5 rows of scaled features:\")\n",
        "# print(X_scaled_df.head())\n",
        "\n",
        "print(\"\\nScaler is fitted and ready to be saved.\")"
      ]
    },
    {
      "cell_type": "markdown",
      "id": "5cf8abdf",
      "metadata": {
        "id": "5cf8abdf"
      },
      "source": [
        "### Train the Random Forest Model"
      ]
    },
    {
      "cell_type": "code",
      "execution_count": null,
      "id": "0e51bfaf",
      "metadata": {
        "id": "0e51bfaf"
      },
      "outputs": [],
      "source": [
        "# Initialize the Random Forest Classifier model\n",
        "# n_estimators is the number of trees in the forest\n",
        "model = RandomForestClassifier(n_estimators=100, random_state=42) # random_state for reproducibility\n",
        "\n",
        "# Train the model\n",
        "model.fit(X_scaled, y)\n",
        "\n",
        "print(\"Random Forest Classifier model trained successfully!\")"
      ]
    },
    {
      "cell_type": "markdown",
      "id": "d45ad5ce",
      "metadata": {
        "id": "d45ad5ce"
      },
      "source": [
        "### Save the Model and Scaler"
      ]
    },
    {
      "cell_type": "code",
      "execution_count": null,
      "id": "2fadce1c",
      "metadata": {
        "id": "2fadce1c"
      },
      "outputs": [],
      "source": [
        "# Define filenames for the saved files\n",
        "model_filename = 'diabetes_rf_model.pkl' # Updated filename\n",
        "scaler_filename = 'scaler.pkl'\n",
        "\n",
        "# Save the trained model\n",
        "with open(model_filename, 'wb') as model_file:\n",
        "    pickle.dump(model, model_file)\n",
        "print(f\"Model saved successfully as '{model_filename}'\")\n",
        "\n",
        "# Save the fitted scaler\n",
        "with open(scaler_filename, 'wb') as scaler_file:\n",
        "    pickle.dump(scaler, scaler_file)\n",
        "print(f\"Scaler saved successfully as '{scaler_filename}'\")"
      ]
    },
    {
      "cell_type": "markdown",
      "id": "648af465",
      "metadata": {
        "id": "648af465"
      },
      "source": [
        "### Predict the model"
      ]
    },
    {
      "cell_type": "code",
      "execution_count": null,
      "id": "aabcce30",
      "metadata": {
        "id": "aabcce30"
      },
      "outputs": [],
      "source": [
        "# Make predictions using the trained model\n",
        "predictions = model.predict(X_scaled)\n",
        "\n",
        "# Display the first 10 predictions\n",
        "print(\"First 10 predictions:\", predictions[:10])"
      ]
    },
    {
      "cell_type": "markdown",
      "id": "42a7610a",
      "metadata": {
        "id": "42a7610a"
      },
      "source": [
        "### Calculate the F1 Score"
      ]
    },
    {
      "cell_type": "code",
      "execution_count": null,
      "id": "c9343287",
      "metadata": {
        "id": "c9343287"
      },
      "outputs": [],
      "source": [
        "# Import the f1_score function\n",
        "from sklearn.metrics import f1_score\n",
        "\n",
        "# Calculate the F1 score\n",
        "f1 = f1_score(y, predictions)\n",
        "\n",
        "# Display the F1 score\n",
        "print(f'F1 Score: {f1:.2f}')"
      ]
    },
    {
      "cell_type": "markdown",
      "metadata": {
        "id": "e5455bfb"
      },
      "source": [
        "# Task\n",
        "Update the notebook \"Time Series Predictive Modeling Diabetes Progression and Health Risk Stratification Using Electronic Health Records\" to work with the provided dataset \"EHR_data.csv\"."
      ],
      "id": "e5455bfb"
    },
    {
      "cell_type": "markdown",
      "metadata": {
        "id": "46b805e0"
      },
      "source": [
        "## Load and explore data\n",
        "\n",
        "### Subtask:\n",
        "Load the EHR data and perform initial exploration to understand its structure, features, and potential issues.\n"
      ],
      "id": "46b805e0"
    },
    {
      "cell_type": "markdown",
      "metadata": {
        "id": "00741fcf"
      },
      "source": [
        "**Reasoning**:\n",
        "Load the EHR data from the CSV file, display the first few rows, show the column names and their data types, and calculate basic descriptive statistics and missing values.\n",
        "\n"
      ],
      "id": "00741fcf"
    },
    {
      "cell_type": "markdown",
      "metadata": {
        "id": "a5250ccd"
      },
      "source": [
        "# Task\n",
        "Update the Time Series Predictive Modeling Diabetes Progression and Health Risk Stratification Using Electronic Health Records model to use the \"diabetes_prediction_india.csv\" dataset."
      ],
      "id": "a5250ccd"
    },
    {
      "cell_type": "markdown",
      "metadata": {
        "id": "632b0c72"
      },
      "source": [
        "## Load the new dataset\n",
        "\n",
        "### Subtask:\n",
        "Load the `diabetes_prediction_india.csv` file into a pandas DataFrame.\n"
      ],
      "id": "632b0c72"
    },
    {
      "cell_type": "markdown",
      "metadata": {
        "id": "52692ebe"
      },
      "source": [
        "**Reasoning**:\n",
        "Load the dataset from 'diabetes_prediction_india.csv' into a pandas DataFrame and display the first few rows.\n",
        "\n"
      ],
      "id": "52692ebe"
    }
  ],
  "metadata": {
    "kernelspec": {
      "display_name": "Python 3",
      "language": "python",
      "name": "python3"
    },
    "language_info": {
      "codemirror_mode": {
        "name": "ipython",
        "version": 3
      },
      "file_extension": ".py",
      "mimetype": "text/x-python",
      "name": "python",
      "nbconvert_exporter": "python",
      "pygments_lexer": "ipython3",
      "version": "3.13.0"
    },
    "colab": {
      "provenance": [],
      "include_colab_link": true
    }
  },
  "nbformat": 4,
  "nbformat_minor": 5
}